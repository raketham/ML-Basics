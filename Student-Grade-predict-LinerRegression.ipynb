{
 "cells": [
  {
   "cell_type": "code",
   "execution_count": 5,
   "metadata": {},
   "outputs": [],
   "source": [
    "#linear regression algorithm to predict students final grade based on a series of attributes\n",
    "#This data set consists of 33 attributes for each student. You can see a description of each attribute here.\n",
    "#It is great that there are many attributes but we likely don't want to consider all of them when trying to predict a students grade.\n",
    "#Therefore, we will trim this data set down so we only have the attributes we need\n",
    "\n",
    "import pandas as pd\n",
    "import numpy as np\n",
    "import sklearn\n",
    "from sklearn import linear_model\n",
    "from sklearn.utils import shuffle"
   ]
  },
  {
   "cell_type": "code",
   "execution_count": 2,
   "metadata": {},
   "outputs": [],
   "source": [
    "data = pd.read_csv(\"student-mat.csv\", sep=\";\")\n",
    "\n",
    "data = data[[\"G1\", \"G2\", \"G3\", \"studytime\", \"failures\", \"absences\"]]\n",
    "\n",
    "predict = \"G3\"\n",
    "\n",
    "X = np.array(data.drop([predict], 1))\n",
    "y = np.array(data[predict])\n",
    "\n",
    "x_train, x_test, y_train, y_test = sklearn.model_selection.train_test_split(X, y, test_size = 0.1)\n",
    "\n",
    "linear = linear_model.LinearRegression()"
   ]
  },
  {
   "cell_type": "code",
   "execution_count": 3,
   "metadata": {},
   "outputs": [
    {
     "name": "stdout",
     "output_type": "stream",
     "text": [
      "0.8501905251896033\n",
      "Coefficient: \n",
      " [ 0.14920547  0.98259346 -0.20760545 -0.17108722  0.03276275]\n",
      "Intercept: \n",
      " -1.432839005210944\n"
     ]
    }
   ],
   "source": [
    "linear.fit(x_train, y_train)\n",
    "acc = linear.score(x_test, y_test)\n",
    "print(acc)\n",
    "\n",
    "print('Coefficient: \\n', linear.coef_)\n",
    "print('Intercept: \\n', linear.intercept_)\n",
    "\n",
    "predictions = linear.predict(x_test)"
   ]
  },
  {
   "cell_type": "code",
   "execution_count": 4,
   "metadata": {},
   "outputs": [
    {
     "name": "stdout",
     "output_type": "stream",
     "text": [
      "11.911959350007924 [11 12  2  0 10] 13\n",
      "8.05809332518031 [6 9 1 1 4] 8\n",
      "18.22591997605417 [16 18  2  0  0] 18\n",
      "6.38043634173297 [7 7 1 0 3] 8\n",
      "7.832380029572512 [10  8  2  0 10] 8\n",
      "7.468443581565856 [8 8 2 0 8] 6\n",
      "11.311666098973392 [12 11  1  1 16] 12\n",
      "7.184459828202849 [9 8 2 1 0] 0\n",
      "4.156726747978552 [6 5 2 0 6] 6\n",
      "7.96343103360763 [10  8  2  0 14] 9\n",
      "19.063143220233087 [17 18  2  0 21] 18\n",
      "15.700476015551406 [17 15  1  0  2] 15\n",
      "7.118758183451861 [ 8  8  4  0 10] 8\n",
      "10.90014932404901 [13 11  2  0  0] 10\n",
      "5.866937188575077 [7 7 3 0 0] 8\n",
      "-0.6073641160483275 [12  0  3  2  0] 0\n",
      "12.126690325020032 [12 12  2  0 12] 11\n",
      "9.841210710017732 [11 10  2  1 12] 10\n",
      "11.777181069639468 [13 12  2  1  2] 12\n",
      "13.92058073659355 [14 14  3  0  4] 14\n",
      "11.031200328084129 [13 11  2  0  4] 11\n",
      "10.186992689064958 [12 10  2  1 18] 10\n",
      "12.657730797703667 [13 13  3  0  0] 13\n",
      "12.581176351673008 [13 13  4  0  4] 12\n",
      "10.82735035878803 [13 11  2  1  3] 11\n",
      "9.888372449216265 [12 10  3  0 10] 12\n",
      "10.227028903317159 [12 10  2  0 14] 11\n",
      "11.831966696047097 [13 11  3  1 40] 11\n",
      "5.7104864567734435 [8 7 2 3 0] 0\n",
      "3.9966684737043314 [6 5 1 1 0] 0\n",
      "15.605767100561316 [16 15  2  0 10] 15\n",
      "9.182261564634967 [10 10  3  2  8] 10\n",
      "12.159453076028813 [12 12  2  0 13] 13\n",
      "9.600990447240266 [10 10  2  0  4] 10\n",
      "14.270266134707544 [14 14  1  0  2] 13\n",
      "10.030452397264483 [12 10  2  0  8] 11\n",
      "18.465930944972037 [19 18  3  0  0] 19\n",
      "13.458611952837558 [15 13  2  0  9] 15\n",
      "19.371969960801593 [19 19  4  0  4] 20\n",
      "9.386259472228158 [ 9 10  2  0  2] 10\n"
     ]
    }
   ],
   "source": [
    "for x in range(len(predictions)):\n",
    "\n",
    "    print(predictions[x], x_test[x], y_test[x])"
   ]
  },
  {
   "cell_type": "code",
   "execution_count": null,
   "metadata": {},
   "outputs": [],
   "source": []
  }
 ],
 "metadata": {
  "kernelspec": {
   "display_name": "Python 3",
   "language": "python",
   "name": "python3"
  },
  "language_info": {
   "codemirror_mode": {
    "name": "ipython",
    "version": 3
   },
   "file_extension": ".py",
   "mimetype": "text/x-python",
   "name": "python",
   "nbconvert_exporter": "python",
   "pygments_lexer": "ipython3",
   "version": "3.7.3"
  }
 },
 "nbformat": 4,
 "nbformat_minor": 2
}
